{
 "cells": [
  {
   "cell_type": "markdown",
   "id": "25c067ed",
   "metadata": {},
   "source": [
    "<h1>Exercise</h1>\n",
    "\n",
    "<h3>Write a regular expression to check if the user input is valid for each of the following cases:</h3>\n",
    "\n",
    "a. only integer of 4 digits is allowed.\n",
    "\n",
    "b. only numeric inputs are allowed (integer or decimal).\n",
    "\n",
    "c. only inputs of date are allowed (consider only the format of yyyy-mm-dd. Optional: consider inputs like 2015-13-48 as invalid date).\n",
    "\n",
    "d. only email addresses are allowed. (Hint: email addresses typically has the format xxxxxx@xxxxx.xxxx.xxx , where 'x' can be number or alphabet, and number of 'x' and '.' is arbitrary).\n",
    "\n",
    "You can start you program with a function check_input(p_pattern) :"
   ]
  },
  {
   "cell_type": "code",
   "execution_count": 7,
   "id": "c011c662",
   "metadata": {},
   "outputs": [],
   "source": [
    "import re\n",
    "\n",
    "def check_input(p_pattern):\n",
    "    while True:\n",
    "        string = input('Enter a string to test:')\n",
    "        if re.match(p_pattern, string):\n",
    "            print('Valid!')\n",
    "            break\n",
    "        else:\n",
    "            print('Invalid! try again.')"
   ]
  },
  {
   "cell_type": "code",
   "execution_count": 3,
   "id": "7d6bd03c",
   "metadata": {},
   "outputs": [
    {
     "name": "stdout",
     "output_type": "stream",
     "text": [
      "Enter a string to test:dddd\\\n",
      "Invalid! try again.\n",
      "Enter a string to test:di2d\n",
      "Invalid! try again.\n",
      "Enter a string to test:1234\n",
      "Valid!\n"
     ]
    }
   ],
   "source": [
    "check_input(r'^\\d{4}$')"
   ]
  },
  {
   "cell_type": "code",
   "execution_count": 4,
   "id": "883991d0",
   "metadata": {},
   "outputs": [
    {
     "name": "stdout",
     "output_type": "stream",
     "text": [
      "Enter a string to test:3339d\n",
      "Invalid! try again.\n",
      "Enter a string to test:333.33\n",
      "Valid!\n"
     ]
    }
   ],
   "source": [
    "check_input(r'^\\d+(\\.\\d+)?$')"
   ]
  },
  {
   "cell_type": "code",
   "execution_count": 6,
   "id": "2afa6df5",
   "metadata": {},
   "outputs": [
    {
     "name": "stdout",
     "output_type": "stream",
     "text": [
      "Enter a string to test:2023-2-29\n",
      "Invalid! try again.\n",
      "Enter a string to test:2022-2-29\n",
      "Invalid! try again.\n",
      "Enter a string to test:2022-9-1\n",
      "Invalid! try again.\n",
      "Enter a string to test:2022-09-01\n",
      "Valid!\n"
     ]
    }
   ],
   "source": [
    "check_input(r'^(?!0000)[0-9]{4}-(0[1-9]|1[0-2])-(0[1-9]|[12][0-9]|3[01])$')"
   ]
  },
  {
   "cell_type": "code",
   "execution_count": 7,
   "id": "45f3b16a",
   "metadata": {},
   "outputs": [
    {
     "name": "stdout",
     "output_type": "stream",
     "text": [
      "Enter a string to test:presidentoffice\n",
      "Invalid! try again.\n",
      "Enter a string to test:po@cuhk.edu.cn\n",
      "Valid!\n"
     ]
    }
   ],
   "source": [
    "check_input(r'^\\w+([-+.]\\w+)*@\\w+([-.]\\w+)*\\.\\w+([-.]\\w+)*$')"
   ]
  },
  {
   "cell_type": "markdown",
   "id": "ab750bc2",
   "metadata": {},
   "source": [
    "<h3>Date format conversion</h3>\n",
    "\n",
    "Write a program to convert a date of Chinese format (yyyy-mm-dd) to British format (dd-mm-yyyy) using regular expression. The result is printed like this:\n",
    "```\n",
    "Original date in Chinese format: 2017-04-25\n",
    "New date in British format: 25-04-2017\n",
    "```"
   ]
  },
  {
   "cell_type": "code",
   "execution_count": 8,
   "id": "0c4bae41",
   "metadata": {},
   "outputs": [
    {
     "name": "stdout",
     "output_type": "stream",
     "text": [
      "Enter the date in Chinese format (yyyy-mm-dd): 2022-09-01\n",
      "Original date in Chinese format: 2022-09-01\n",
      "New date in British format: 01-09-2022\n"
     ]
    }
   ],
   "source": [
    "# get the Chinese date from the user\n",
    "chinese_date = input(\"Enter the date in Chinese format (yyyy-mm-dd): \")\n",
    "\n",
    "# use regex to extract year, month and day from the Chinese date\n",
    "year, month, day = re.findall(r'(\\d{4})-(\\d{2})-(\\d{2})', chinese_date)[0]\n",
    "\n",
    "# create the new date string in British format\n",
    "british_date = f\"{day}-{month}-{year}\"\n",
    "\n",
    "# print the original and new dates\n",
    "print(\"Original date in Chinese format:\", chinese_date)\n",
    "print(\"New date in British format:\", british_date)"
   ]
  },
  {
   "cell_type": "markdown",
   "id": "acc74b03",
   "metadata": {},
   "source": [
    "<h3>Extracting information from Twitter</h3>\n",
    "\n",
    "The content of the first page of CNN's official twitter account is copied to a text file tweets.txt , but the format is a mess. We can use regular expression to extract the information we want to read.\n",
    "\n",
    "a. Using regular expression, collect all the URLs in CNN's tweets as a list.\n",
    "\n",
    "b. Collect the content of each tweet, and write the tweets together with their corresponding URLs (if any) into a new file called news_today.txt :\n",
    "```\n",
    "This defiant demonstrator was photographed in front of an armored police vehicle during protests in Venezuela\n",
    "http://cnn.it/2pH0SP3\n",
    "\n",
    "Bill O'Reilly will be paid tens of millions of dollars on his way out of Fox News, sources tell CNN \n",
    "http://cnn.it/2oTK3xA \n",
    "...\n",
    "```\n",
    "\n",
    "c. Find all the tweets which have more than 1k likes, and write them into a file popular_today.txt. Your result should be the same as below:\n",
    "```\n",
    "New England Patriots' Alan Branch skips White House visit because of President Trump's past sexist remarks \n",
    "http://cnn.it/2oTsdKT\n",
    "\n",
    "Serena Williams is expecting her first child. The tennis star was pregnant when she won Australian Open.\n",
    "http://cnn.it/2oSWMjQ \n",
    "\n",
    "A majority of voters disapprove of adviser roles of Ivanka Trump and Jared Kushner, according to new Quinnipiac poll \n",
    "http://cnn.it/2pEOsqK \n",
    "```"
   ]
  },
  {
   "cell_type": "code",
   "execution_count": 1,
   "id": "6b39d36f",
   "metadata": {
    "scrolled": false
   },
   "outputs": [
    {
     "name": "stdout",
     "output_type": "stream",
     "text": [
      "['http://cnn.it/2pH0SP3', 'http://cnn.it/2oTK3xA', 'http://cnn.it/2oTHfk1', 'http://cnn.it/2pGFwS1', 'http://cnn.it/2pGqiw5', 'http://cnn.it/2oTarYn', 'http://cnn.it/2oTsdKT', 'http://cnn.it/2pGgfHC', 'http://cnn.it/2oTjGHY', 'http://cnn.it/2oTi4xY', 'http://cnn.it/2oThoIR', 'http://cnn.it/2pGs1S2', 'http://cnn.it/2pGg3rP', 'http://cnn.it/2oSWMjQ', 'http://cnn.it/2oT2Ysd', 'http://cnn.it/2pGiDxL', 'http://cnn.it/2oSKmbL', 'http://cnn.it/2pG6Yz7', 'http://cnn.it/2pGiE4Z', 'http://cnn.it/2oSPzAc', 'http://cnn.it/2oSMXSW', 'http://cnn.it/2oSMyjz', 'http://cnn.it/2pG0ujE', 'http://cnn.it/2oSHImn', 'http://cnn.it/2pFEZzo', 'http://cnn.it/2pFF9XN', 'http://cnn.it/2oSsjCA', 'http://cnn.it/2pFEky5', 'http://cnn.it/2pFmmfi', 'http://cnn.it/2pFyKMb', 'http://cnn.it/2pFxOr0', 'http://cnn.it/2oQPflz', 'http://cnn.it/2pF2Pva', 'http://cnn.it/2pFc7Yl', 'http://cnn.it/2oS5UFp', 'http://cnn.it/2pEoe7Z', 'http://cnn.it/2pEOsqK']\n"
     ]
    }
   ],
   "source": [
    "import re\n",
    "\n",
    "# read tweets from file\n",
    "with open('tweets.txt', 'r', encoding='utf-8') as file:\n",
    "    tweets = file.read()\n",
    "\n",
    "# extract all URLs\n",
    "urls = re.findall(r'https?://\\S+', tweets)\n",
    "\n",
    "print(urls)"
   ]
  },
  {
   "cell_type": "code",
   "execution_count": 12,
   "id": "644f6575",
   "metadata": {
    "scrolled": true
   },
   "outputs": [
    {
     "name": "stdout",
     "output_type": "stream",
     "text": [
      "This defiant demonstrator was photographed in front of an armored police vehicle during protests in Venezuela\n",
      "http://cnn.it/2pH0SP3\n",
      "\n",
      "Bill O'Reilly will be paid tens of millions of dollars on his way out of Fox News, sources tell CNN\n",
      "http://cnn.it/2oTK3xA\n",
      "\n",
      "VP Mike Pence praises Indonesia for its tradition of \"modern Islam\"\n",
      "http://cnn.it/2oTHfk1\n",
      "\n",
      "Russia claims its \"Father of all bombs\" is more powerful than the US \"Mother of all bombs\"\n",
      "http://cnn.it/2pGFwS1\n",
      "\n",
      "An undocumented mother who has been hiding in a Denver church is among Time's 100 Most Influential People\n",
      "http://cnn.it/2pGqiw5\n",
      "\n",
      "Bernie Sanders and Tom Perez's DNC unity tour is off to a bumpy start\n",
      "http://cnn.it/2oTarYn\n",
      "\n",
      "New England Patriots' Alan Branch skips White House visit because of President Trump's past sexist remarks\n",
      "http://cnn.it/2oTsdKT\n",
      "\n",
      "Is there something in the air today? Well, it is 420 aka \"Weed Day\" and here's why\n",
      "http://cnn.it/2pGgfHC\n",
      "\n",
      "Satellite images from April 16 show what appears to be \"volleyball games underway\" in N. Korea's nuclear test site\n",
      "http://cnn.it/2oTjGHY\n",
      "\n",
      "Mucus from the skin of certain frogs can be harnessed to obliterate flu viruses, a new study suggests\n",
      "http://cnn.it/2oTi4xY\n",
      "\n",
      "A large asteroid is whizzing by Earth this week, and NASA has the images to prove it.\n",
      "http://cnn.it/2oThoIR\n",
      "\n",
      "A federal judge whom Trump criticized last year will hear the case of a man who claims he was unfairly deported\n",
      "http://cnn.it/2pGs1S2\n",
      "\n",
      "This baby killer whale is the last one to be born at SeaWorld San Antonio in Texas\n",
      "http://cnn.it/2pGg3rP\n",
      "\n",
      "Serena Williams is expecting her first child. The tennis star was pregnant when she won Australian Open.\n",
      "http://cnn.it/2oSWMjQ\n",
      "\n",
      "South Korean newspaper equates President Trump's \"armada\" claim with North Korea's \"fake missiles\" on parade\n",
      "http://cnn.it/2oT2Ysd\n",
      "\n",
      "This attorney is running 2,451 miles across America to prove a point -- and represent the \"New Face of 50\"\n",
      "http://cnn.it/2pGiDxL\n",
      "\n",
      "In just nine months, Fox News has lost its founder and its biggest star to sexual harassment scandals\n",
      "http://cnn.it/2oSKmbL\n",
      "\n",
      "Cannabis companies are expecting a 420 sales spike and they're offering Black Friday-style discounts\n",
      "http://cnn.it/2pG6Yz7\n",
      "\n",
      "Turmoil in Venezuela has recently been exacerbated. @RafaelRomoCNN explains the events that led to violent protests\n",
      "http://cnn.it/2pGiE4Z\n",
      "\n",
      "Satellite images from April 16 show what appears to be \"volleyball games underway\" in N. Korea's nuclear test site\n",
      "http://cnn.it/2oSPzAc\n",
      "\n",
      "Sources say the White House is looking to revive the Obamacare repeal before the 100-day deadline\n",
      "http://cnn.it/2oSMXSW\n",
      "\n",
      "\"Incontrovertible\" evidence Sarin gas, or a similar substance, used in Syrian chemical attack that killed 89 people\n",
      "http://cnn.it/2oSMyjz\n",
      "\n",
      "Is there something in the air today? Well, it is 420 aka \"Weed Day\" and here's why\n",
      "http://cnn.it/2pG0ujE\n",
      "\n",
      "Pakistani Prime Minister Nawaz Sharif and his children to face a new investigation team over links to Panama Papers\n",
      "http://cnn.it/2oSHImn\n",
      "\n",
      "France is getting a new president. Here's why you need to pay attention:\n",
      "http://cnn.it/2pFEZzo\n",
      "\n",
      "Malaysia Airlines is the first carrier to sign up for a new satellite tracking service\n",
      "http://cnn.it/2pFF9XN\n",
      "\n",
      "Opinion: President Erdogan and other Turkish authorities harsh criticism of election observers is deeply troubling\n",
      "http://cnn.it/2oSsjCA\n",
      "\n",
      "US President Donald Trump promised \"an armada\" but it never arrived and now South Korea is doubting his leadership\n",
      "http://cnn.it/2pFEky5\n",
      "\n",
      "Syrian President Bashar al-Assad and North Korean leader Kim Jong Un: A tale of two dictators\n",
      "http://cnn.it/2pFmmfi\n",
      "\n",
      "Satellite images from April 16 show what appears to be \"volleyball games underway\" in N. Korea's nuclear test site\n",
      "http://cnn.it/2pFyKMb\n",
      "\n",
      "This baby killer whale is the last one to be born at SeaWorld San Antonio in Texas\n",
      "http://cnn.it/2pFxOr0\n",
      "\n",
      "Mucus from the skin of certain frogs can be harnessed to obliterate flu viruses, a new study suggests\n",
      "http://cnn.it/2oQPflz\n",
      "\n",
      "Syria has relocated the majority of its combat planes to protect them from potential US strikes, US officials say\n",
      "http://cnn.it/2pF2Pva\n",
      "\n",
      "Sean Spicer's explanation on the Carl Vinson makes no sense, writes @CillizzaCNN\n",
      "http://cnn.it/2pFc7Yl\n",
      "\n",
      "Photos on social media appear to show a difference in the New England Patriots' turnout at the White House vs. 2015\n",
      "http://cnn.it/2oS5UFp\n",
      "\n",
      "President Trump has been promising to bring back steel jobs and coal jobs. Can they be revived?\n",
      "http://cnn.it/2pEoe7Z\n",
      "\n",
      "A majority of voters disapprove of adviser roles of Ivanka Trump and Jared Kushner, according to new Quinnipiac poll\n",
      "http://cnn.it/2pEOsqK\n",
      "\n"
     ]
    }
   ],
   "source": [
    "# extract tweet content and URLs\n",
    "tweet_content = re.findall(r'^(.*?)((?:https?://\\S+)?)\\s+$', tweets, re.MULTILINE)\n",
    "\n",
    "# write tweets and URLs to file\n",
    "with open('news_today.txt', 'w', encoding='utf-8') as file:\n",
    "    for content, url in tweet_content:\n",
    "        if url:\n",
    "            content = content.strip()\n",
    "            url = url.strip()\n",
    "            file.write(f\"{content}\\n{url}\\n\\n\")\n",
    "            print(f\"{content}\\n{url}\\n\")"
   ]
  },
  {
   "cell_type": "code",
   "execution_count": 15,
   "id": "b82c6b7a",
   "metadata": {
    "scrolled": false
   },
   "outputs": [
    {
     "name": "stdout",
     "output_type": "stream",
     "text": [
      "New England Patriots' Alan Branch skips White House visit because of President Trump's past sexist remarks\n",
      "http://cnn.it/2oTsdKT \n",
      "\n",
      "Serena Williams is expecting her first child. The tennis star was pregnant when she won Australian Open.\n",
      "http://cnn.it/2oSWMjQ \n",
      "\n",
      "A majority of voters disapprove of adviser roles of Ivanka Trump and Jared Kushner, according to new Quinnipiac poll\n",
      "http://cnn.it/2pEOsqK \n",
      "\n"
     ]
    }
   ],
   "source": [
    "# extract popular tweets\n",
    "popular_tweets = re.findall(r'^(.*?)(Like\\s+\\d+.\\d+K)?((?:https?://\\S+)?(?:\\s*?))$', tweets, re.MULTILINE)\n",
    "# write popular tweets to file\n",
    "with open('popular_today.txt', 'w', encoding='utf-8') as file:\n",
    "    for i in range(len(popular_tweets)):\n",
    "        likes= popular_tweets[i][1]\n",
    "        url = popular_tweets[i-4][2]\n",
    "        content = popular_tweets[i-4][0]\n",
    "        if likes:\n",
    "            content = content.strip()\n",
    "            likes = likes.strip()\n",
    "            file.write(f\"{content}\\n{url}\\n\\n\")\n",
    "            print(f\"{content}\\n{url}\\n\")"
   ]
  },
  {
   "cell_type": "code",
   "execution_count": null,
   "id": "45184f8b",
   "metadata": {},
   "outputs": [],
   "source": []
  }
 ],
 "metadata": {
  "kernelspec": {
   "display_name": "Python 3 (ipykernel)",
   "language": "python",
   "name": "python3"
  },
  "language_info": {
   "codemirror_mode": {
    "name": "ipython",
    "version": 3
   },
   "file_extension": ".py",
   "mimetype": "text/x-python",
   "name": "python",
   "nbconvert_exporter": "python",
   "pygments_lexer": "ipython3",
   "version": "3.9.13"
  }
 },
 "nbformat": 4,
 "nbformat_minor": 5
}
